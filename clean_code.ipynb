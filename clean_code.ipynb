{
 "cells": [
  {
   "cell_type": "code",
   "execution_count": 1,
   "metadata": {},
   "outputs": [],
   "source": [
    "from packages import kuramoto as kr\n",
    "from packages import kuramoto_nex as nkr\n",
    "from packages import plotting\n",
    "\n",
    "import numpy as np\n",
    "import matplotlib.pyplot as plt\n",
    "import networkx as nx\n",
    "import seaborn as sns\n",
    "import plotly.graph_objects as go\n",
    "from plotly.subplots import make_subplots\n",
    "from tqdm import tqdm, trange\n",
    "from sklearn.metrics import mean_squared_error\n",
    "\n",
    "\n",
    "\n",
    "np.random.seed(42)"
   ]
  },
  {
   "cell_type": "code",
   "execution_count": 2,
   "metadata": {},
   "outputs": [],
   "source": [
    "def getReservoir(matrix, time_interval=10):\n",
    "    sampled_matrix = matrix[:, ::time_interval]\n",
    "    diff_matrix = np.diff(sampled_matrix, n=1, axis=1)\n",
    "    reservoir_t = diff_matrix.flatten(order='K')\n",
    "    #print(sampled_matrix.shape)\n",
    "    #print(diff_matrix.shape)\n",
    "    #print(reservoir_t.shape)\n",
    "\n",
    "    return reservoir_t\n",
    "def ridge_regression(trainRes, trainData, reg):\n",
    "    ResSize = trainRes.shape[1]\n",
    "    Wout = np.linalg.solve(np.dot(trainRes.T, trainRes) + reg*np.eye(ResSize), np.dot(trainRes.T, trainData))\n",
    "    return Wout\n",
    "\n",
    "def getLastPhase(matrix):\n",
    "    return matrix[:,-1]\n",
    "\n",
    "def getNextPhase(matrix, model):\n",
    "    act_mat = model.run(adj_mat=graph, angles_vec=matrix)\n",
    "    phase = getLastPhase(matrix=act_mat)\n",
    "    \n",
    "    return phase\n",
    "def getPerturbedPhase(t, input_data, index, phase):\n",
    "    for (i,j) in enumerate(index):\n",
    "        phase[j] += input_data[t, i]\n",
    "    \n",
    "    return phase"
   ]
  },
  {
   "cell_type": "code",
   "execution_count": 3,
   "metadata": {},
   "outputs": [],
   "source": [
    "def find_critical_coupling(graph, init_phase, natfreqs):\n",
    "    t = np.linspace(0, 4, 51)\n",
    "    order_ex = []\n",
    "    variance_ex = []\n",
    "\n",
    "    order_nex = []\n",
    "    variance_nex = []\n",
    "\n",
    "    for k in tqdm(t):\n",
    "        model_ex = kr.Kuramoto(coupling=k, dt=0.01, T=10, n_nodes=len(graph), natfreqs=natfreqs)\n",
    "        model_nex = nkr.Kuramoto(coupling=k, dt=0.01, T=10, n_nodes=len(graph), natfreqs=natfreqs)\n",
    "        # Run simulation - output is time series for all nodes (node vs time)\n",
    "        act_mat_ex = model_ex.run(adj_mat=graph, angles_vec = init_phase)\n",
    "        act_mat_nex = model_nex.run(adj_mat=graph, angles_vec = init_phase)\n",
    "\n",
    "        order_ex.append(model_ex.phase_coherence(act_mat_ex[:,-1]))\n",
    "        variance_ex.append(model_ex.mean_frequency(act_mat_ex, graph))\n",
    "\n",
    "        order_nex.append(model_nex.phase_coherence(act_mat_nex[:,-1]))\n",
    "        variance_nex.append(model_nex.mean_frequency(act_mat_nex, graph))\n",
    "\n",
    "    return t, order_ex, variance_ex, order_nex, variance_nex"
   ]
  },
  {
   "attachments": {},
   "cell_type": "markdown",
   "metadata": {},
   "source": [
    "## Define parameters"
   ]
  },
  {
   "cell_type": "code",
   "execution_count": 49,
   "metadata": {},
   "outputs": [],
   "source": [
    "NODE = 100\n",
    "graph_nx = nx.erdos_renyi_graph(n=NODE, p=1, seed=42) # p=1 -> all-to-all connectivity\n",
    "graph = nx.to_numpy_array(graph_nx)\n",
    "\n",
    "init_phase = 2 * np.pi * np.random.random(size=NODE)\n",
    "natfreqs = np.random.normal(loc = 0, scale = 1, size = NODE)"
   ]
  },
  {
   "cell_type": "code",
   "execution_count": 50,
   "metadata": {},
   "outputs": [
    {
     "name": "stderr",
     "output_type": "stream",
     "text": [
      "100%|██████████| 51/51 [00:16<00:00,  3.17it/s]\n"
     ]
    }
   ],
   "source": [
    "t, order_ex, variance_ex, order_nex, variance_nex = find_critical_coupling(graph, init_phase, natfreqs)"
   ]
  },
  {
   "cell_type": "code",
   "execution_count": 51,
   "metadata": {},
   "outputs": [
    {
     "data": {
      "application/vnd.plotly.v1+json": {
       "config": {
        "plotlyServerURL": "https://plot.ly"
       },
       "data": [
        {
         "line": {
          "width": 0.8
         },
         "marker": {
          "color": "red",
          "size": 4
         },
         "mode": "markers+lines",
         "name": "Order Ex",
         "type": "scatter",
         "x": [
          0,
          0.08,
          0.16,
          0.24,
          0.32,
          0.4,
          0.48,
          0.56,
          0.64,
          0.72,
          0.8,
          0.88,
          0.96,
          1.04,
          1.12,
          1.2,
          1.28,
          1.36,
          1.44,
          1.52,
          1.6,
          1.68,
          1.76,
          1.84,
          1.92,
          2,
          2.08,
          2.16,
          2.24,
          2.32,
          2.4,
          2.48,
          2.56,
          2.64,
          2.72,
          2.8000000000000003,
          2.88,
          2.96,
          3.04,
          3.12,
          3.2,
          3.2800000000000002,
          3.36,
          3.44,
          3.52,
          3.6,
          3.68,
          3.7600000000000002,
          3.84,
          3.92,
          4
         ],
         "xaxis": "x",
         "y": [
          0.10086940631090371,
          0.10038034018263317,
          0.09959908141875977,
          0.0984782723136928,
          0.09696873026485447,
          0.09502154151517778,
          0.09259230283927557,
          0.08964889226856859,
          0.0861845078989972,
          0.08223826741479777,
          0.07792504708511115,
          0.07347406827070524,
          0.06926548155104664,
          0.065836766301076,
          0.06381085386325612,
          0.0637348283556709,
          0.06596691317348649,
          0.0708757589798487,
          0.0794009502135135,
          0.09350791293382683,
          0.11571675681083014,
          0.14683547516553255,
          0.18104118135625344,
          0.20293699423743322,
          0.22402391061701338,
          0.28678264578565493,
          0.3330847512673993,
          0.22265783031345962,
          0.12926869912459538,
          0.14811216826756787,
          0.7946255136716667,
          0.8524518644679685,
          0.8667291814900694,
          0.8766257102213898,
          0.8801586262833446,
          0.8858006546565211,
          0.8769811938925656,
          0.8837843940965039,
          0.8415532186339162,
          0.8640692792670159,
          0.8718318056175265,
          0.8787065726930692,
          0.8839355601607312,
          0.8888687147072147,
          0.8924293849991397,
          0.8922026741642317,
          0.8809534250581221,
          0.9030412967181207,
          0.9085595951941384,
          0.9127130294915922,
          0.9160138616162314
         ],
         "yaxis": "y"
        },
        {
         "line": {
          "width": 0.8
         },
         "marker": {
          "color": "black",
          "size": 4
         },
         "mode": "markers+lines",
         "name": "Order Nex",
         "type": "scatter",
         "x": [
          0,
          0.08,
          0.16,
          0.24,
          0.32,
          0.4,
          0.48,
          0.56,
          0.64,
          0.72,
          0.8,
          0.88,
          0.96,
          1.04,
          1.12,
          1.2,
          1.28,
          1.36,
          1.44,
          1.52,
          1.6,
          1.68,
          1.76,
          1.84,
          1.92,
          2,
          2.08,
          2.16,
          2.24,
          2.32,
          2.4,
          2.48,
          2.56,
          2.64,
          2.72,
          2.8000000000000003,
          2.88,
          2.96,
          3.04,
          3.12,
          3.2,
          3.2800000000000002,
          3.36,
          3.44,
          3.52,
          3.6,
          3.68,
          3.7600000000000002,
          3.84,
          3.92,
          4
         ],
         "xaxis": "x",
         "y": [
          0.10086940631090371,
          0.10890226827607183,
          0.11773146030702528,
          0.12740121676454053,
          0.13793196471678393,
          0.14930876622866796,
          0.1614702228792233,
          0.17430166303085082,
          0.18763817305373592,
          0.2012848595470578,
          0.21506271537496396,
          0.22889335990157988,
          0.24293518076762177,
          0.25769455087335164,
          0.2736361004997045,
          0.28936667784556874,
          0.2979074046123603,
          0.2814310913057396,
          0.3060479847636371,
          0.3645926430435042,
          0.3573310092325151,
          0.3942706223525326,
          0.463614626220647,
          0.4342952739091909,
          0.43935647438008557,
          0.5598550987120449,
          0.6731343163208329,
          0.6510583922633926,
          0.7700249555565682,
          0.8184692769773997,
          0.8151113448539685,
          0.8401417386777369,
          0.8395454086669223,
          0.8596449366415482,
          0.8943677495546306,
          0.8610579528622947,
          0.8910365779616173,
          0.9050812392800135,
          0.9139635917061807,
          0.9217088939325919,
          0.9269269327706083,
          0.9319617245968844,
          0.9363645966483322,
          0.9402645214399691,
          0.9437540777337592,
          0.9469005059052782,
          0.9497551845231468,
          0.9523585937483005,
          0.9547433621332274,
          0.9569362637117944,
          0.9589595872637056
         ],
         "yaxis": "y"
        },
        {
         "line": {
          "width": 0.8
         },
         "marker": {
          "color": "red",
          "size": 4
         },
         "mode": "markers+lines",
         "name": "Variance Ex",
         "type": "scatter",
         "x": [
          0,
          0.08,
          0.16,
          0.24,
          0.32,
          0.4,
          0.48,
          0.56,
          0.64,
          0.72,
          0.8,
          0.88,
          0.96,
          1.04,
          1.12,
          1.2,
          1.28,
          1.36,
          1.44,
          1.52,
          1.6,
          1.68,
          1.76,
          1.84,
          1.92,
          2,
          2.08,
          2.16,
          2.24,
          2.32,
          2.4,
          2.48,
          2.56,
          2.64,
          2.72,
          2.8000000000000003,
          2.88,
          2.96,
          3.04,
          3.12,
          3.2,
          3.2800000000000002,
          3.36,
          3.44,
          3.52,
          3.6,
          3.68,
          3.7600000000000002,
          3.84,
          3.92,
          4
         ],
         "xaxis": "x2",
         "y": [
          0.00000945790759725942,
          0.000009701933136568999,
          0.00000995874707002448,
          0.000010228281195185368,
          0.000010511040311353325,
          0.0000108085534325523,
          0.000011124106358833144,
          0.000011463861490257143,
          0.00001183851551679709,
          0.000012265741530193816,
          0.000012773874151728182,
          0.000013407665624028418,
          0.000014237506385997924,
          0.000015373381256893606,
          0.000016981365783196266,
          0.000019285748257311732,
          0.00002250641816924452,
          0.00002667081235949087,
          0.000031430159849137354,
          0.0000364353989730366,
          0.000043425091951733755,
          0.00006902881968162707,
          0.00021855547001516754,
          0.0007357053583413579,
          0.0014727044303224006,
          0.0015536499031927325,
          0.00016170674782975,
          0.01979147386744875,
          0.07443316995480835,
          0.0002030205708018445,
          0.6651467320680692,
          0.8611060124916287,
          0.8991562895141839,
          0.9191870661652183,
          0.8841311075474986,
          0.91103097938015,
          0.8009588276293135,
          0.8591972845283119,
          0.9389159355594535,
          0.9227087007685328,
          0.9230259491967462,
          0.948136016703502,
          0.9642945109629183,
          0.9597044314701227,
          0.944534563172383,
          0.9144322851620531,
          0.9860767200620252,
          0.9717017872508324,
          0.9790700287368316,
          0.9821087795154975,
          0.9832582600266023
         ],
         "yaxis": "y2"
        },
        {
         "line": {
          "width": 0.8
         },
         "marker": {
          "color": "black",
          "size": 4
         },
         "mode": "markers+lines",
         "name": "Variance Nex",
         "type": "scatter",
         "x": [
          0,
          0.08,
          0.16,
          0.24,
          0.32,
          0.4,
          0.48,
          0.56,
          0.64,
          0.72,
          0.8,
          0.88,
          0.96,
          1.04,
          1.12,
          1.2,
          1.28,
          1.36,
          1.44,
          1.52,
          1.6,
          1.68,
          1.76,
          1.84,
          1.92,
          2,
          2.08,
          2.16,
          2.24,
          2.32,
          2.4,
          2.48,
          2.56,
          2.64,
          2.72,
          2.8000000000000003,
          2.88,
          2.96,
          3.04,
          3.12,
          3.2,
          3.2800000000000002,
          3.36,
          3.44,
          3.52,
          3.6,
          3.68,
          3.7600000000000002,
          3.84,
          3.92,
          4
         ],
         "xaxis": "x2",
         "y": [
          0.00000945790759725942,
          0.00000962276655904444,
          0.000009827527487208697,
          0.000010082516956368368,
          0.000010401101005424511,
          0.000010800727429482583,
          0.000011304428827487843,
          0.000011943052165717393,
          0.000012758614590775692,
          0.000013809413296499834,
          0.000015177707711737323,
          0.000016980544335970636,
          0.000019381706948587228,
          0.000022593065621525055,
          0.000026832697388756088,
          0.00003218248041749335,
          0.00003844061377092474,
          0.00004826942957878026,
          0.00007675217820962758,
          0.00014766881540648324,
          0.00036534541188144664,
          0.001363271099032381,
          0.0009337150335232505,
          0.0005140533823910431,
          0.000981415174326548,
          0.0013619661614210922,
          0.02332709861178317,
          0.06986435415078898,
          0.21610232093126444,
          0.03058969805645979,
          0.10611859657722075,
          0.1310863200449751,
          0.2551995847163144,
          0.9181639971479467,
          0.2102400786882504,
          0.6797882465258933,
          0.9991015333333874,
          0.9999492755576048,
          0.9999960031931902,
          0.9983105700346663,
          0.9999999496857178,
          0.9999999918269791,
          0.9999999998646606,
          0.9999999999924898,
          0.9999999999993933,
          0.9999999999999383,
          0.9999999999999926,
          0.999999999999999,
          0.9999999999999997,
          1,
          1
         ],
         "yaxis": "y2"
        }
       ],
       "layout": {
        "annotations": [
         {
          "font": {
           "size": 16
          },
          "showarrow": false,
          "text": "(a) Kuramoto Order Parameters",
          "x": 0.225,
          "xanchor": "center",
          "xref": "paper",
          "y": 1,
          "yanchor": "bottom",
          "yref": "paper"
         },
         {
          "font": {
           "size": 16
          },
          "showarrow": false,
          "text": "(b) Variance Order Parameters",
          "x": 0.775,
          "xanchor": "center",
          "xref": "paper",
          "y": 1,
          "yanchor": "bottom",
          "yref": "paper"
         }
        ],
        "height": 500,
        "hovermode": "x unified",
        "showlegend": false,
        "template": {
         "data": {
          "bar": [
           {
            "error_x": {
             "color": "#2a3f5f"
            },
            "error_y": {
             "color": "#2a3f5f"
            },
            "marker": {
             "line": {
              "color": "#E5ECF6",
              "width": 0.5
             },
             "pattern": {
              "fillmode": "overlay",
              "size": 10,
              "solidity": 0.2
             }
            },
            "type": "bar"
           }
          ],
          "barpolar": [
           {
            "marker": {
             "line": {
              "color": "#E5ECF6",
              "width": 0.5
             },
             "pattern": {
              "fillmode": "overlay",
              "size": 10,
              "solidity": 0.2
             }
            },
            "type": "barpolar"
           }
          ],
          "carpet": [
           {
            "aaxis": {
             "endlinecolor": "#2a3f5f",
             "gridcolor": "white",
             "linecolor": "white",
             "minorgridcolor": "white",
             "startlinecolor": "#2a3f5f"
            },
            "baxis": {
             "endlinecolor": "#2a3f5f",
             "gridcolor": "white",
             "linecolor": "white",
             "minorgridcolor": "white",
             "startlinecolor": "#2a3f5f"
            },
            "type": "carpet"
           }
          ],
          "choropleth": [
           {
            "colorbar": {
             "outlinewidth": 0,
             "ticks": ""
            },
            "type": "choropleth"
           }
          ],
          "contour": [
           {
            "colorbar": {
             "outlinewidth": 0,
             "ticks": ""
            },
            "colorscale": [
             [
              0,
              "#0d0887"
             ],
             [
              0.1111111111111111,
              "#46039f"
             ],
             [
              0.2222222222222222,
              "#7201a8"
             ],
             [
              0.3333333333333333,
              "#9c179e"
             ],
             [
              0.4444444444444444,
              "#bd3786"
             ],
             [
              0.5555555555555556,
              "#d8576b"
             ],
             [
              0.6666666666666666,
              "#ed7953"
             ],
             [
              0.7777777777777778,
              "#fb9f3a"
             ],
             [
              0.8888888888888888,
              "#fdca26"
             ],
             [
              1,
              "#f0f921"
             ]
            ],
            "type": "contour"
           }
          ],
          "contourcarpet": [
           {
            "colorbar": {
             "outlinewidth": 0,
             "ticks": ""
            },
            "type": "contourcarpet"
           }
          ],
          "heatmap": [
           {
            "colorbar": {
             "outlinewidth": 0,
             "ticks": ""
            },
            "colorscale": [
             [
              0,
              "#0d0887"
             ],
             [
              0.1111111111111111,
              "#46039f"
             ],
             [
              0.2222222222222222,
              "#7201a8"
             ],
             [
              0.3333333333333333,
              "#9c179e"
             ],
             [
              0.4444444444444444,
              "#bd3786"
             ],
             [
              0.5555555555555556,
              "#d8576b"
             ],
             [
              0.6666666666666666,
              "#ed7953"
             ],
             [
              0.7777777777777778,
              "#fb9f3a"
             ],
             [
              0.8888888888888888,
              "#fdca26"
             ],
             [
              1,
              "#f0f921"
             ]
            ],
            "type": "heatmap"
           }
          ],
          "heatmapgl": [
           {
            "colorbar": {
             "outlinewidth": 0,
             "ticks": ""
            },
            "colorscale": [
             [
              0,
              "#0d0887"
             ],
             [
              0.1111111111111111,
              "#46039f"
             ],
             [
              0.2222222222222222,
              "#7201a8"
             ],
             [
              0.3333333333333333,
              "#9c179e"
             ],
             [
              0.4444444444444444,
              "#bd3786"
             ],
             [
              0.5555555555555556,
              "#d8576b"
             ],
             [
              0.6666666666666666,
              "#ed7953"
             ],
             [
              0.7777777777777778,
              "#fb9f3a"
             ],
             [
              0.8888888888888888,
              "#fdca26"
             ],
             [
              1,
              "#f0f921"
             ]
            ],
            "type": "heatmapgl"
           }
          ],
          "histogram": [
           {
            "marker": {
             "pattern": {
              "fillmode": "overlay",
              "size": 10,
              "solidity": 0.2
             }
            },
            "type": "histogram"
           }
          ],
          "histogram2d": [
           {
            "colorbar": {
             "outlinewidth": 0,
             "ticks": ""
            },
            "colorscale": [
             [
              0,
              "#0d0887"
             ],
             [
              0.1111111111111111,
              "#46039f"
             ],
             [
              0.2222222222222222,
              "#7201a8"
             ],
             [
              0.3333333333333333,
              "#9c179e"
             ],
             [
              0.4444444444444444,
              "#bd3786"
             ],
             [
              0.5555555555555556,
              "#d8576b"
             ],
             [
              0.6666666666666666,
              "#ed7953"
             ],
             [
              0.7777777777777778,
              "#fb9f3a"
             ],
             [
              0.8888888888888888,
              "#fdca26"
             ],
             [
              1,
              "#f0f921"
             ]
            ],
            "type": "histogram2d"
           }
          ],
          "histogram2dcontour": [
           {
            "colorbar": {
             "outlinewidth": 0,
             "ticks": ""
            },
            "colorscale": [
             [
              0,
              "#0d0887"
             ],
             [
              0.1111111111111111,
              "#46039f"
             ],
             [
              0.2222222222222222,
              "#7201a8"
             ],
             [
              0.3333333333333333,
              "#9c179e"
             ],
             [
              0.4444444444444444,
              "#bd3786"
             ],
             [
              0.5555555555555556,
              "#d8576b"
             ],
             [
              0.6666666666666666,
              "#ed7953"
             ],
             [
              0.7777777777777778,
              "#fb9f3a"
             ],
             [
              0.8888888888888888,
              "#fdca26"
             ],
             [
              1,
              "#f0f921"
             ]
            ],
            "type": "histogram2dcontour"
           }
          ],
          "mesh3d": [
           {
            "colorbar": {
             "outlinewidth": 0,
             "ticks": ""
            },
            "type": "mesh3d"
           }
          ],
          "parcoords": [
           {
            "line": {
             "colorbar": {
              "outlinewidth": 0,
              "ticks": ""
             }
            },
            "type": "parcoords"
           }
          ],
          "pie": [
           {
            "automargin": true,
            "type": "pie"
           }
          ],
          "scatter": [
           {
            "fillpattern": {
             "fillmode": "overlay",
             "size": 10,
             "solidity": 0.2
            },
            "type": "scatter"
           }
          ],
          "scatter3d": [
           {
            "line": {
             "colorbar": {
              "outlinewidth": 0,
              "ticks": ""
             }
            },
            "marker": {
             "colorbar": {
              "outlinewidth": 0,
              "ticks": ""
             }
            },
            "type": "scatter3d"
           }
          ],
          "scattercarpet": [
           {
            "marker": {
             "colorbar": {
              "outlinewidth": 0,
              "ticks": ""
             }
            },
            "type": "scattercarpet"
           }
          ],
          "scattergeo": [
           {
            "marker": {
             "colorbar": {
              "outlinewidth": 0,
              "ticks": ""
             }
            },
            "type": "scattergeo"
           }
          ],
          "scattergl": [
           {
            "marker": {
             "colorbar": {
              "outlinewidth": 0,
              "ticks": ""
             }
            },
            "type": "scattergl"
           }
          ],
          "scattermapbox": [
           {
            "marker": {
             "colorbar": {
              "outlinewidth": 0,
              "ticks": ""
             }
            },
            "type": "scattermapbox"
           }
          ],
          "scatterpolar": [
           {
            "marker": {
             "colorbar": {
              "outlinewidth": 0,
              "ticks": ""
             }
            },
            "type": "scatterpolar"
           }
          ],
          "scatterpolargl": [
           {
            "marker": {
             "colorbar": {
              "outlinewidth": 0,
              "ticks": ""
             }
            },
            "type": "scatterpolargl"
           }
          ],
          "scatterternary": [
           {
            "marker": {
             "colorbar": {
              "outlinewidth": 0,
              "ticks": ""
             }
            },
            "type": "scatterternary"
           }
          ],
          "surface": [
           {
            "colorbar": {
             "outlinewidth": 0,
             "ticks": ""
            },
            "colorscale": [
             [
              0,
              "#0d0887"
             ],
             [
              0.1111111111111111,
              "#46039f"
             ],
             [
              0.2222222222222222,
              "#7201a8"
             ],
             [
              0.3333333333333333,
              "#9c179e"
             ],
             [
              0.4444444444444444,
              "#bd3786"
             ],
             [
              0.5555555555555556,
              "#d8576b"
             ],
             [
              0.6666666666666666,
              "#ed7953"
             ],
             [
              0.7777777777777778,
              "#fb9f3a"
             ],
             [
              0.8888888888888888,
              "#fdca26"
             ],
             [
              1,
              "#f0f921"
             ]
            ],
            "type": "surface"
           }
          ],
          "table": [
           {
            "cells": {
             "fill": {
              "color": "#EBF0F8"
             },
             "line": {
              "color": "white"
             }
            },
            "header": {
             "fill": {
              "color": "#C8D4E3"
             },
             "line": {
              "color": "white"
             }
            },
            "type": "table"
           }
          ]
         },
         "layout": {
          "annotationdefaults": {
           "arrowcolor": "#2a3f5f",
           "arrowhead": 0,
           "arrowwidth": 1
          },
          "autotypenumbers": "strict",
          "coloraxis": {
           "colorbar": {
            "outlinewidth": 0,
            "ticks": ""
           }
          },
          "colorscale": {
           "diverging": [
            [
             0,
             "#8e0152"
            ],
            [
             0.1,
             "#c51b7d"
            ],
            [
             0.2,
             "#de77ae"
            ],
            [
             0.3,
             "#f1b6da"
            ],
            [
             0.4,
             "#fde0ef"
            ],
            [
             0.5,
             "#f7f7f7"
            ],
            [
             0.6,
             "#e6f5d0"
            ],
            [
             0.7,
             "#b8e186"
            ],
            [
             0.8,
             "#7fbc41"
            ],
            [
             0.9,
             "#4d9221"
            ],
            [
             1,
             "#276419"
            ]
           ],
           "sequential": [
            [
             0,
             "#0d0887"
            ],
            [
             0.1111111111111111,
             "#46039f"
            ],
            [
             0.2222222222222222,
             "#7201a8"
            ],
            [
             0.3333333333333333,
             "#9c179e"
            ],
            [
             0.4444444444444444,
             "#bd3786"
            ],
            [
             0.5555555555555556,
             "#d8576b"
            ],
            [
             0.6666666666666666,
             "#ed7953"
            ],
            [
             0.7777777777777778,
             "#fb9f3a"
            ],
            [
             0.8888888888888888,
             "#fdca26"
            ],
            [
             1,
             "#f0f921"
            ]
           ],
           "sequentialminus": [
            [
             0,
             "#0d0887"
            ],
            [
             0.1111111111111111,
             "#46039f"
            ],
            [
             0.2222222222222222,
             "#7201a8"
            ],
            [
             0.3333333333333333,
             "#9c179e"
            ],
            [
             0.4444444444444444,
             "#bd3786"
            ],
            [
             0.5555555555555556,
             "#d8576b"
            ],
            [
             0.6666666666666666,
             "#ed7953"
            ],
            [
             0.7777777777777778,
             "#fb9f3a"
            ],
            [
             0.8888888888888888,
             "#fdca26"
            ],
            [
             1,
             "#f0f921"
            ]
           ]
          },
          "colorway": [
           "#636efa",
           "#EF553B",
           "#00cc96",
           "#ab63fa",
           "#FFA15A",
           "#19d3f3",
           "#FF6692",
           "#B6E880",
           "#FF97FF",
           "#FECB52"
          ],
          "font": {
           "color": "#2a3f5f"
          },
          "geo": {
           "bgcolor": "white",
           "lakecolor": "white",
           "landcolor": "#E5ECF6",
           "showlakes": true,
           "showland": true,
           "subunitcolor": "white"
          },
          "hoverlabel": {
           "align": "left"
          },
          "hovermode": "closest",
          "mapbox": {
           "style": "light"
          },
          "paper_bgcolor": "white",
          "plot_bgcolor": "#E5ECF6",
          "polar": {
           "angularaxis": {
            "gridcolor": "white",
            "linecolor": "white",
            "ticks": ""
           },
           "bgcolor": "#E5ECF6",
           "radialaxis": {
            "gridcolor": "white",
            "linecolor": "white",
            "ticks": ""
           }
          },
          "scene": {
           "xaxis": {
            "backgroundcolor": "#E5ECF6",
            "gridcolor": "white",
            "gridwidth": 2,
            "linecolor": "white",
            "showbackground": true,
            "ticks": "",
            "zerolinecolor": "white"
           },
           "yaxis": {
            "backgroundcolor": "#E5ECF6",
            "gridcolor": "white",
            "gridwidth": 2,
            "linecolor": "white",
            "showbackground": true,
            "ticks": "",
            "zerolinecolor": "white"
           },
           "zaxis": {
            "backgroundcolor": "#E5ECF6",
            "gridcolor": "white",
            "gridwidth": 2,
            "linecolor": "white",
            "showbackground": true,
            "ticks": "",
            "zerolinecolor": "white"
           }
          },
          "shapedefaults": {
           "line": {
            "color": "#2a3f5f"
           }
          },
          "ternary": {
           "aaxis": {
            "gridcolor": "white",
            "linecolor": "white",
            "ticks": ""
           },
           "baxis": {
            "gridcolor": "white",
            "linecolor": "white",
            "ticks": ""
           },
           "bgcolor": "#E5ECF6",
           "caxis": {
            "gridcolor": "white",
            "linecolor": "white",
            "ticks": ""
           }
          },
          "title": {
           "x": 0.05
          },
          "xaxis": {
           "automargin": true,
           "gridcolor": "white",
           "linecolor": "white",
           "ticks": "",
           "title": {
            "standoff": 15
           },
           "zerolinecolor": "white",
           "zerolinewidth": 2
          },
          "yaxis": {
           "automargin": true,
           "gridcolor": "white",
           "linecolor": "white",
           "ticks": "",
           "title": {
            "standoff": 15
           },
           "zerolinecolor": "white",
           "zerolinewidth": 2
          }
         }
        },
        "title": {
         "text": "Kuramoto and Variance Order Parameters (N=100)",
         "x": 0.5
        },
        "width": 900,
        "xaxis": {
         "anchor": "y",
         "domain": [
          0,
          0.45
         ]
        },
        "xaxis2": {
         "anchor": "y2",
         "domain": [
          0.55,
          1
         ]
        },
        "yaxis": {
         "anchor": "x",
         "domain": [
          0,
          1
         ],
         "range": [
          0,
          1
         ],
         "title": {
          "text": "$r$"
         }
        },
        "yaxis2": {
         "anchor": "x2",
         "domain": [
          0,
          1
         ],
         "range": [
          0,
          1
         ],
         "title": {
          "text": "$r_{var}$"
         }
        }
       }
      }
     },
     "metadata": {},
     "output_type": "display_data"
    }
   ],
   "source": [
    "# Create subplot figure with shared axes\n",
    "fig = make_subplots(rows=1, cols=2, subplot_titles=[\"(a) Kuramoto Order Parameters\", \"(b) Variance Order Parameters\"], horizontal_spacing=0.1, shared_xaxes=True)\n",
    "\n",
    "# Add traces to subplot 1\n",
    "fig.add_trace(\n",
    "    go.Scatter(x=t, y=order_ex, mode='markers+lines', marker=dict(color='red', size=4), line=dict(width=0.8), name='Order Ex'),\n",
    "    row=1, col=1\n",
    ")\n",
    "fig.add_trace(\n",
    "    go.Scatter(x=t, y=order_nex, mode='markers+lines', marker=dict(color='black', size=4), line=dict(width=0.8), name='Order Nex'),\n",
    "    row=1, col=1\n",
    ")\n",
    "fig.update_yaxes(title_text='$r$', range=[0,1], row=1, col=1)\n",
    "\n",
    "# Add traces to subplot 2\n",
    "fig.add_trace(\n",
    "    go.Scatter(x=t, y=variance_ex, mode='markers+lines', marker=dict(color='red', size=4), line=dict(width=0.8), name='Variance Ex'),\n",
    "    row=1, col=2\n",
    ")\n",
    "fig.add_trace(\n",
    "    go.Scatter(x=t, y=variance_nex, mode='markers+lines', marker=dict(color='black', size=4), line=dict(width=0.8), name='Variance Nex'),\n",
    "    row=1, col=2\n",
    ")\n",
    "fig.update_yaxes(title_text=r'$r_{var}$', range=[0,1], row=1, col=2)\n",
    "\n",
    "# Update layout with synchronized hovermode\n",
    "fig.update_layout(height=500, width=900, showlegend=False, title_text=f\"Kuramoto and Variance Order Parameters (N={NODE})\", title_x=0.5, hovermode='x unified')\n",
    "\n",
    "fig.show()"
   ]
  },
  {
   "attachments": {},
   "cell_type": "markdown",
   "metadata": {},
   "source": [
    "## Load data"
   ]
  },
  {
   "cell_type": "code",
   "execution_count": 52,
   "metadata": {},
   "outputs": [
    {
     "data": {
      "text/plain": [
       "[<matplotlib.lines.Line2D at 0x23c3d9e1690>]"
      ]
     },
     "execution_count": 52,
     "metadata": {},
     "output_type": "execute_result"
    },
    {
     "data": {
      "image/png": "[encoded data removed]",
      "text/plain": [
       "<Figure size 500x300 with 1 Axes>"
      ]
     },
     "metadata": {},
     "output_type": "display_data"
    }
   ],
   "source": [
    "data = np.loadtxt('MackeyGlass.txt')\n",
    "\n",
    "plt.figure(figsize=(5,3))\n",
    "plt.plot(data[:1000])"
   ]
  },
  {
   "cell_type": "code",
   "execution_count": 53,
   "metadata": {},
   "outputs": [],
   "source": [
    "def evaluate(graph, init_phase, natfreqs, critical_coupling=np.e, dt=0.01, input_interval=10):\n",
    "    #critical_coupling = 2.7\n",
    "    hist = []\n",
    "    \n",
    "    critical_model = kr.Kuramoto(coupling=critical_coupling, dt=dt, T=10, n_nodes=len(graph), natfreqs=natfreqs)\n",
    "    act_mat = critical_model.run(adj_mat=graph, angles_vec = init_phase)\n",
    "\n",
    "    ResSize = 1500\n",
    "    push = 500\n",
    "    trainLen = ResSize-push\n",
    "    testLen = 1000\n",
    "    #x = np.linspace(0, 1000,10000)\n",
    "    #data = np.sin(x)\n",
    "    input_data = data.reshape(-1,1)\n",
    "    trainData = input_data[push+1:push+trainLen+1,:]\n",
    "\n",
    "    sample_interval=10*input_interval\n",
    "\n",
    "    # Now we are ready to perturb data\n",
    "    reservoir = []\n",
    "\n",
    "    act_mat_hist = []\n",
    "\n",
    "    synced_phases = act_mat[:,-1]\n",
    "\n",
    "    model = kr.Kuramoto(coupling=critical_coupling, dt=dt, T=dt, n_nodes=NODE, natfreqs=natfreqs)\n",
    "    synced_phases = getNextPhase(matrix=synced_phases, model=model)\n",
    "\n",
    "    model = kr.Kuramoto(coupling=critical_coupling, dt=dt, T=input_interval+dt, n_nodes=NODE, natfreqs=natfreqs)\n",
    "\n",
    "    for t in trange(0, ResSize):\n",
    "        perturbed_phases = getPerturbedPhase(t, input_data=input_data, index=[0], phase=synced_phases)\n",
    "        act_mat = model.run(adj_mat=graph, angles_vec=perturbed_phases)\n",
    "        \n",
    "        reservoir.append(getReservoir(matrix=act_mat, time_interval=sample_interval))\n",
    "        synced_phases = getLastPhase(matrix=act_mat)\n",
    "\n",
    "        act_mat_hist.append(act_mat)\n",
    "\n",
    "    reservoir_T = np.vstack(reservoir)\n",
    "    trainRes = reservoir_T[push:push+trainLen,:]\n",
    "\n",
    "    reg = 1e-8  # regularization coefficient\n",
    "    Wout = ridge_regression(trainRes, trainData, reg)\n",
    "\n",
    "    \n",
    "    testData = input_data[push+trainLen+1:push+trainLen+1+testLen,:]\n",
    "\n",
    "    target = trainData[-1,:].reshape(-1,1)\n",
    "\n",
    "    pred = []\n",
    "\n",
    "    model = kr.Kuramoto(coupling=critical_coupling, dt=dt, T=dt, n_nodes=NODE, natfreqs=natfreqs)\n",
    "    synced_phases = getNextPhase(matrix=synced_phases, model=model)\n",
    "\n",
    "    model = kr.Kuramoto(coupling=critical_coupling, dt=dt, T=input_interval+dt, n_nodes=NODE, natfreqs=natfreqs)\n",
    "\n",
    "    for t in trange(0, testLen):\n",
    "        for (i,j) in enumerate([0]):\n",
    "            synced_phases[j] += target[i]\n",
    "            \n",
    "        act_mat = model.run(adj_mat=graph, angles_vec = synced_phases)\n",
    "        act_mat_sampled = act_mat[:, ::sample_interval]\n",
    "        act_mat_diff = np.diff(act_mat_sampled, n=1, axis=1)\n",
    "        reservoir_t = act_mat_diff.flatten(order='K')\n",
    "        pred.append(np.matmul(reservoir_t, Wout))\n",
    "\n",
    "        synced_phases = getLastPhase(matrix=act_mat)\n",
    "        target = pred[-1]\n",
    "\n",
    "    pred = np.vstack(pred)\n",
    "    act_mat_hist = np.hstack(act_mat_hist)\n",
    "\n",
    "    RMSE = mean_squared_error(testData, pred)**0.5\n",
    "    print(RMSE)\n",
    "    \n",
    "    #plt.plot(pred)\n",
    "    \n",
    "    return pred, testData, act_mat_hist, RMSE\n"
   ]
  },
  {
   "cell_type": "code",
   "execution_count": 54,
   "metadata": {},
   "outputs": [
    {
     "name": "stderr",
     "output_type": "stream",
     "text": [
      "100%|██████████| 1500/1500 [00:27<00:00, 55.06it/s]\n",
      "100%|██████████| 1000/1000 [00:27<00:00, 36.94it/s]\n"
     ]
    },
    {
     "name": "stdout",
     "output_type": "stream",
     "text": [
      "0.24149144593479063\n"
     ]
    }
   ],
   "source": [
    "pred, testData, act_mat_hist, RMSE = evaluate(graph=graph,\n",
    "                                              init_phase=init_phase,\n",
    "                                              natfreqs=natfreqs,\n",
    "                                              critical_coupling=2.7,\n",
    "                                              dt=0.01,\n",
    "                                              input_interval=10\n",
    "                                              )"
   ]
  },
  {
   "cell_type": "code",
   "execution_count": 55,
   "metadata": {},
   "outputs": [
    {
     "data": {
      "text/plain": [
       "<matplotlib.legend.Legend at 0x23cfa604e20>"
      ]
     },
     "execution_count": 55,
     "metadata": {},
     "output_type": "execute_result"
    },
    {
     "data": {
      "image/png": "[encoded data removed]",
      "text/plain": [
       "<Figure size 640x480 with 1 Axes>"
      ]
     },
     "metadata": {},
     "output_type": "display_data"
    }
   ],
   "source": [
    "plt.plot(pred, label='pred')\n",
    "plt.plot(testData, label='test', alpha=0.5)\n",
    "plt.legend()"
   ]
  },
  {
   "cell_type": "code",
   "execution_count": 38,
   "metadata": {},
   "outputs": [
    {
     "data": {
      "text/plain": [
       "<Axes: xlabel='Time', ylabel='$\\\\sin(\\\\theta)$'>"
      ]
     },
     "execution_count": 38,
     "metadata": {},
     "output_type": "execute_result"
    },
    {
     "data": {
      "image/png": "[encoded data removed]",
      "text/plain": [
       "<Figure size 1200x400 with 1 Axes>"
      ]
     },
     "metadata": {},
     "output_type": "display_data"
    }
   ],
   "source": [
    "plotting.plot_activity(act_mat_hist[:,:10000])"
   ]
  },
  {
   "cell_type": "code",
   "execution_count": null,
   "metadata": {},
   "outputs": [],
   "source": []
  }
 ],
 "metadata": {
  "kernelspec": {
   "display_name": "base",
   "language": "python",
   "name": "python3"
  },
  "language_info": {
   "codemirror_mode": {
    "name": "ipython",
    "version": 3
   },
   "file_extension": ".py",
   "mimetype": "text/x-python",
   "name": "python",
   "nbconvert_exporter": "python",
   "pygments_lexer": "ipython3",
   "version": "3.10.9"
  },
  "orig_nbformat": 4
 },
 "nbformat": 4,
 "nbformat_minor": 2
}
